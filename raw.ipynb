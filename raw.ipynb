{
 "cells": [
  {
   "cell_type": "code",
   "execution_count": 1,
   "metadata": {},
   "outputs": [],
   "source": [
    "from vibegrad import Tensor"
   ]
  },
  {
   "cell_type": "code",
   "execution_count": 2,
   "metadata": {},
   "outputs": [],
   "source": [
    "from graphviz import Digraph\n",
    "\n",
    "def trace(root):\n",
    "  # builds a set of all nodes and edges in a graph\n",
    "  nodes, edges = set(), set()\n",
    "  def build(v):\n",
    "    if v not in nodes:\n",
    "      nodes.add(v)\n",
    "      for child in v._prev:\n",
    "        edges.add((child, v))\n",
    "        build(child)\n",
    "  build(root)\n",
    "  return nodes, edges\n",
    "\n",
    "def draw_dot(root):\n",
    "    dot = Digraph(format='svg', graph_attr={'rankdir': 'LR'})  # LR = left to right\n",
    "\n",
    "    nodes, edges = trace(root)\n",
    "    for n in nodes:\n",
    "        uid = str(id(n))\n",
    "        \n",
    "        # Safely extract scalars from n.data\n",
    "        try:\n",
    "            data = n.data.item() if hasattr(n.data, 'item') else float(n.data)\n",
    "        except (ValueError, TypeError):\n",
    "            data = 0.0  # Default value if n.data is invalid\n",
    "\n",
    "        # Safely extract scalars from n.grad\n",
    "        try:\n",
    "            grad = n.grad.item() if hasattr(n.grad, 'item') else float(n.grad)\n",
    "        except (ValueError, TypeError, AttributeError):\n",
    "            grad = 0.0  # Default value if n.grad is invalid\n",
    "\n",
    "        # Create a rectangular ('record') node for each value in the graph\n",
    "        dot.node(\n",
    "            name=uid,\n",
    "            label=\"{ %s | data %.4f | grad %.4f }\" % (n.label, data, grad),\n",
    "            shape='record'\n",
    "        )\n",
    "        if n._op:\n",
    "            # Create an op node if this value is a result of an operation\n",
    "            dot.node(name=uid + n._op, label=n._op)\n",
    "            dot.edge(uid + n._op, uid)\n",
    "\n",
    "    for n1, n2 in edges:\n",
    "        # Connect n1 to the op node of n2\n",
    "        dot.edge(str(id(n1)), str(id(n2)) + n2._op)\n",
    "\n",
    "    return dot\n",
    "\n",
    "\n"
   ]
  },
  {
   "cell_type": "code",
   "execution_count": 3,
   "metadata": {},
   "outputs": [],
   "source": [
    "a = Tensor(2)\n",
    "b = Tensor(4)"
   ]
  },
  {
   "cell_type": "code",
   "execution_count": 4,
   "metadata": {},
   "outputs": [
    {
     "data": {
      "text/plain": [
       "array(1.)"
      ]
     },
     "execution_count": 4,
     "metadata": {},
     "output_type": "execute_result"
    }
   ],
   "source": [
    "import numpy as np\n",
    "c = Tensor(1)\n",
    "c.data"
   ]
  },
  {
   "cell_type": "code",
   "execution_count": 5,
   "metadata": {},
   "outputs": [
    {
     "data": {
      "text/plain": [
       "array(1.)"
      ]
     },
     "execution_count": 5,
     "metadata": {},
     "output_type": "execute_result"
    }
   ],
   "source": [
    "c = a*b\n",
    "c.backward()\n",
    "c.grad"
   ]
  },
  {
   "cell_type": "code",
   "execution_count": 6,
   "metadata": {},
   "outputs": [
    {
     "data": {
      "text/plain": [
       "(array(2.), array(4.))"
      ]
     },
     "execution_count": 6,
     "metadata": {},
     "output_type": "execute_result"
    }
   ],
   "source": [
    "b.grad, a.grad"
   ]
  },
  {
   "cell_type": "code",
   "execution_count": 7,
   "metadata": {},
   "outputs": [],
   "source": [
    "c.zero_grad()\n",
    "a.zero_grad()\n",
    "b.zero_grad()"
   ]
  },
  {
   "cell_type": "code",
   "execution_count": 8,
   "metadata": {},
   "outputs": [],
   "source": [
    "from vibegrad.nn import Linear, Sequential"
   ]
  },
  {
   "cell_type": "code",
   "execution_count": 9,
   "metadata": {},
   "outputs": [],
   "source": [
    "a = Linear(1, 1)"
   ]
  },
  {
   "cell_type": "code",
   "execution_count": 10,
   "metadata": {},
   "outputs": [
    {
     "data": {
      "text/plain": [
       "array([1., 1.])"
      ]
     },
     "execution_count": 10,
     "metadata": {},
     "output_type": "execute_result"
    }
   ],
   "source": [
    "import numpy as np\n",
    "np.random.uniform((1,1))"
   ]
  },
  {
   "cell_type": "code",
   "execution_count": 11,
   "metadata": {},
   "outputs": [
    {
     "data": {
      "text/plain": [
       "Tensor(data=[0.06805869])"
      ]
     },
     "execution_count": 11,
     "metadata": {},
     "output_type": "execute_result"
    }
   ],
   "source": [
    "a(Tensor([1]))"
   ]
  },
  {
   "cell_type": "code",
   "execution_count": 12,
   "metadata": {},
   "outputs": [
    {
     "data": {
      "text/plain": [
       "(Tensor(data=[[0.06805869]]), Tensor(data=[0.]))"
      ]
     },
     "execution_count": 12,
     "metadata": {},
     "output_type": "execute_result"
    }
   ],
   "source": [
    "a.weight, a.bias"
   ]
  },
  {
   "cell_type": "code",
   "execution_count": 13,
   "metadata": {},
   "outputs": [],
   "source": [
    "import torch\n",
    "from torch.nn import Linear as tLinear"
   ]
  },
  {
   "cell_type": "code",
   "execution_count": 14,
   "metadata": {},
   "outputs": [],
   "source": [
    "a = tLinear(1,1)"
   ]
  },
  {
   "cell_type": "code",
   "execution_count": 15,
   "metadata": {},
   "outputs": [
    {
     "data": {
      "text/plain": [
       "tensor([-0.9875], grad_fn=<ViewBackward0>)"
      ]
     },
     "execution_count": 15,
     "metadata": {},
     "output_type": "execute_result"
    }
   ],
   "source": [
    "a(torch.tensor([1.0]))"
   ]
  },
  {
   "cell_type": "code",
   "execution_count": 16,
   "metadata": {},
   "outputs": [
    {
     "data": {
      "text/plain": [
       "(Parameter containing:\n",
       " tensor([[-0.8889]], requires_grad=True),\n",
       " Parameter containing:\n",
       " tensor([-0.0985], requires_grad=True))"
      ]
     },
     "execution_count": 16,
     "metadata": {},
     "output_type": "execute_result"
    }
   ],
   "source": [
    "a.weight, a.bias"
   ]
  },
  {
   "cell_type": "code",
   "execution_count": 17,
   "metadata": {},
   "outputs": [],
   "source": [
    "from vibegrad.nn import *\n",
    "from vibegrad.optims import *"
   ]
  },
  {
   "cell_type": "code",
   "execution_count": 18,
   "metadata": {},
   "outputs": [
    {
     "name": "stdout",
     "output_type": "stream",
     "text": [
      "(256, 300)\n",
      "[[0. 0. 0. ... 0. 0. 0.]\n",
      " [0. 0. 0. ... 0. 0. 0.]\n",
      " [0. 0. 0. ... 0. 0. 0.]\n",
      " ...\n",
      " [0. 0. 0. ... 0. 0. 0.]\n",
      " [0. 0. 0. ... 0. 0. 0.]\n",
      " [0. 0. 0. ... 0. 0. 0.]]\n",
      "(300,)\n",
      "[0. 0. 0. 0. 0. 0. 0. 0. 0. 0. 0. 0. 0. 0. 0. 0. 0. 0. 0. 0. 0. 0. 0. 0.\n",
      " 0. 0. 0. 0. 0. 0. 0. 0. 0. 0. 0. 0. 0. 0. 0. 0. 0. 0. 0. 0. 0. 0. 0. 0.\n",
      " 0. 0. 0. 0. 0. 0. 0. 0. 0. 0. 0. 0. 0. 0. 0. 0. 0. 0. 0. 0. 0. 0. 0. 0.\n",
      " 0. 0. 0. 0. 0. 0. 0. 0. 0. 0. 0. 0. 0. 0. 0. 0. 0. 0. 0. 0. 0. 0. 0. 0.\n",
      " 0. 0. 0. 0. 0. 0. 0. 0. 0. 0. 0. 0. 0. 0. 0. 0. 0. 0. 0. 0. 0. 0. 0. 0.\n",
      " 0. 0. 0. 0. 0. 0. 0. 0. 0. 0. 0. 0. 0. 0. 0. 0. 0. 0. 0. 0. 0. 0. 0. 0.\n",
      " 0. 0. 0. 0. 0. 0. 0. 0. 0. 0. 0. 0. 0. 0. 0. 0. 0. 0. 0. 0. 0. 0. 0. 0.\n",
      " 0. 0. 0. 0. 0. 0. 0. 0. 0. 0. 0. 0. 0. 0. 0. 0. 0. 0. 0. 0. 0. 0. 0. 0.\n",
      " 0. 0. 0. 0. 0. 0. 0. 0. 0. 0. 0. 0. 0. 0. 0. 0. 0. 0. 0. 0. 0. 0. 0. 0.\n",
      " 0. 0. 0. 0. 0. 0. 0. 0. 0. 0. 0. 0. 0. 0. 0. 0. 0. 0. 0. 0. 0. 0. 0. 0.\n",
      " 0. 0. 0. 0. 0. 0. 0. 0. 0. 0. 0. 0. 0. 0. 0. 0. 0. 0. 0. 0. 0. 0. 0. 0.\n",
      " 0. 0. 0. 0. 0. 0. 0. 0. 0. 0. 0. 0. 0. 0. 0. 0. 0. 0. 0. 0. 0. 0. 0. 0.\n",
      " 0. 0. 0. 0. 0. 0. 0. 0. 0. 0. 0. 0.]\n",
      "(300, 1)\n",
      "[[0.]\n",
      " [0.]\n",
      " [0.]\n",
      " [0.]\n",
      " [0.]\n",
      " [0.]\n",
      " [0.]\n",
      " [0.]\n",
      " [0.]\n",
      " [0.]\n",
      " [0.]\n",
      " [0.]\n",
      " [0.]\n",
      " [0.]\n",
      " [0.]\n",
      " [0.]\n",
      " [0.]\n",
      " [0.]\n",
      " [0.]\n",
      " [0.]\n",
      " [0.]\n",
      " [0.]\n",
      " [0.]\n",
      " [0.]\n",
      " [0.]\n",
      " [0.]\n",
      " [0.]\n",
      " [0.]\n",
      " [0.]\n",
      " [0.]\n",
      " [0.]\n",
      " [0.]\n",
      " [0.]\n",
      " [0.]\n",
      " [0.]\n",
      " [0.]\n",
      " [0.]\n",
      " [0.]\n",
      " [0.]\n",
      " [0.]\n",
      " [0.]\n",
      " [0.]\n",
      " [0.]\n",
      " [0.]\n",
      " [0.]\n",
      " [0.]\n",
      " [0.]\n",
      " [0.]\n",
      " [0.]\n",
      " [0.]\n",
      " [0.]\n",
      " [0.]\n",
      " [0.]\n",
      " [0.]\n",
      " [0.]\n",
      " [0.]\n",
      " [0.]\n",
      " [0.]\n",
      " [0.]\n",
      " [0.]\n",
      " [0.]\n",
      " [0.]\n",
      " [0.]\n",
      " [0.]\n",
      " [0.]\n",
      " [0.]\n",
      " [0.]\n",
      " [0.]\n",
      " [0.]\n",
      " [0.]\n",
      " [0.]\n",
      " [0.]\n",
      " [0.]\n",
      " [0.]\n",
      " [0.]\n",
      " [0.]\n",
      " [0.]\n",
      " [0.]\n",
      " [0.]\n",
      " [0.]\n",
      " [0.]\n",
      " [0.]\n",
      " [0.]\n",
      " [0.]\n",
      " [0.]\n",
      " [0.]\n",
      " [0.]\n",
      " [0.]\n",
      " [0.]\n",
      " [0.]\n",
      " [0.]\n",
      " [0.]\n",
      " [0.]\n",
      " [0.]\n",
      " [0.]\n",
      " [0.]\n",
      " [0.]\n",
      " [0.]\n",
      " [0.]\n",
      " [0.]\n",
      " [0.]\n",
      " [0.]\n",
      " [0.]\n",
      " [0.]\n",
      " [0.]\n",
      " [0.]\n",
      " [0.]\n",
      " [0.]\n",
      " [0.]\n",
      " [0.]\n",
      " [0.]\n",
      " [0.]\n",
      " [0.]\n",
      " [0.]\n",
      " [0.]\n",
      " [0.]\n",
      " [0.]\n",
      " [0.]\n",
      " [0.]\n",
      " [0.]\n",
      " [0.]\n",
      " [0.]\n",
      " [0.]\n",
      " [0.]\n",
      " [0.]\n",
      " [0.]\n",
      " [0.]\n",
      " [0.]\n",
      " [0.]\n",
      " [0.]\n",
      " [0.]\n",
      " [0.]\n",
      " [0.]\n",
      " [0.]\n",
      " [0.]\n",
      " [0.]\n",
      " [0.]\n",
      " [0.]\n",
      " [0.]\n",
      " [0.]\n",
      " [0.]\n",
      " [0.]\n",
      " [0.]\n",
      " [0.]\n",
      " [0.]\n",
      " [0.]\n",
      " [0.]\n",
      " [0.]\n",
      " [0.]\n",
      " [0.]\n",
      " [0.]\n",
      " [0.]\n",
      " [0.]\n",
      " [0.]\n",
      " [0.]\n",
      " [0.]\n",
      " [0.]\n",
      " [0.]\n",
      " [0.]\n",
      " [0.]\n",
      " [0.]\n",
      " [0.]\n",
      " [0.]\n",
      " [0.]\n",
      " [0.]\n",
      " [0.]\n",
      " [0.]\n",
      " [0.]\n",
      " [0.]\n",
      " [0.]\n",
      " [0.]\n",
      " [0.]\n",
      " [0.]\n",
      " [0.]\n",
      " [0.]\n",
      " [0.]\n",
      " [0.]\n",
      " [0.]\n",
      " [0.]\n",
      " [0.]\n",
      " [0.]\n",
      " [0.]\n",
      " [0.]\n",
      " [0.]\n",
      " [0.]\n",
      " [0.]\n",
      " [0.]\n",
      " [0.]\n",
      " [0.]\n",
      " [0.]\n",
      " [0.]\n",
      " [0.]\n",
      " [0.]\n",
      " [0.]\n",
      " [0.]\n",
      " [0.]\n",
      " [0.]\n",
      " [0.]\n",
      " [0.]\n",
      " [0.]\n",
      " [0.]\n",
      " [0.]\n",
      " [0.]\n",
      " [0.]\n",
      " [0.]\n",
      " [0.]\n",
      " [0.]\n",
      " [0.]\n",
      " [0.]\n",
      " [0.]\n",
      " [0.]\n",
      " [0.]\n",
      " [0.]\n",
      " [0.]\n",
      " [0.]\n",
      " [0.]\n",
      " [0.]\n",
      " [0.]\n",
      " [0.]\n",
      " [0.]\n",
      " [0.]\n",
      " [0.]\n",
      " [0.]\n",
      " [0.]\n",
      " [0.]\n",
      " [0.]\n",
      " [0.]\n",
      " [0.]\n",
      " [0.]\n",
      " [0.]\n",
      " [0.]\n",
      " [0.]\n",
      " [0.]\n",
      " [0.]\n",
      " [0.]\n",
      " [0.]\n",
      " [0.]\n",
      " [0.]\n",
      " [0.]\n",
      " [0.]\n",
      " [0.]\n",
      " [0.]\n",
      " [0.]\n",
      " [0.]\n",
      " [0.]\n",
      " [0.]\n",
      " [0.]\n",
      " [0.]\n",
      " [0.]\n",
      " [0.]\n",
      " [0.]\n",
      " [0.]\n",
      " [0.]\n",
      " [0.]\n",
      " [0.]\n",
      " [0.]\n",
      " [0.]\n",
      " [0.]\n",
      " [0.]\n",
      " [0.]\n",
      " [0.]\n",
      " [0.]\n",
      " [0.]\n",
      " [0.]\n",
      " [0.]\n",
      " [0.]\n",
      " [0.]\n",
      " [0.]\n",
      " [0.]\n",
      " [0.]\n",
      " [0.]\n",
      " [0.]\n",
      " [0.]\n",
      " [0.]\n",
      " [0.]\n",
      " [0.]\n",
      " [0.]\n",
      " [0.]\n",
      " [0.]\n",
      " [0.]\n",
      " [0.]\n",
      " [0.]\n",
      " [0.]\n",
      " [0.]\n",
      " [0.]\n",
      " [0.]\n",
      " [0.]\n",
      " [0.]\n",
      " [0.]\n",
      " [0.]\n",
      " [0.]\n",
      " [0.]\n",
      " [0.]\n",
      " [0.]\n",
      " [0.]\n",
      " [0.]\n",
      " [0.]\n",
      " [0.]\n",
      " [0.]\n",
      " [0.]]\n",
      "(1,)\n",
      "[0.]\n",
      "hi\n",
      "[[0. 0. 0. ... 0. 0. 0.]\n",
      " [0. 0. 0. ... 0. 0. 0.]\n",
      " [0. 0. 0. ... 0. 0. 0.]\n",
      " ...\n",
      " [0. 0. 0. ... 0. 0. 0.]\n",
      " [0. 0. 0. ... 0. 0. 0.]\n",
      " [0. 0. 0. ... 0. 0. 0.]]\n",
      "[0. 0. 0. 0. 0. 0. 0. 0. 0. 0. 0. 0. 0. 0. 0. 0. 0. 0. 0. 0. 0. 0. 0. 0.\n",
      " 0. 0. 0. 0. 0. 0. 0. 0. 0. 0. 0. 0. 0. 0. 0. 0. 0. 0. 0. 0. 0. 0. 0. 0.\n",
      " 0. 0. 0. 0. 0. 0. 0. 0. 0. 0. 0. 0. 0. 0. 0. 0. 0. 0. 0. 0. 0. 0. 0. 0.\n",
      " 0. 0. 0. 0. 0. 0. 0. 0. 0. 0. 0. 0. 0. 0. 0. 0. 0. 0. 0. 0. 0. 0. 0. 0.\n",
      " 0. 0. 0. 0. 0. 0. 0. 0. 0. 0. 0. 0. 0. 0. 0. 0. 0. 0. 0. 0. 0. 0. 0. 0.\n",
      " 0. 0. 0. 0. 0. 0. 0. 0. 0. 0. 0. 0. 0. 0. 0. 0. 0. 0. 0. 0. 0. 0. 0. 0.\n",
      " 0. 0. 0. 0. 0. 0. 0. 0. 0. 0. 0. 0. 0. 0. 0. 0. 0. 0. 0. 0. 0. 0. 0. 0.\n",
      " 0. 0. 0. 0. 0. 0. 0. 0. 0. 0. 0. 0. 0. 0. 0. 0. 0. 0. 0. 0. 0. 0. 0. 0.\n",
      " 0. 0. 0. 0. 0. 0. 0. 0. 0. 0. 0. 0. 0. 0. 0. 0. 0. 0. 0. 0. 0. 0. 0. 0.\n",
      " 0. 0. 0. 0. 0. 0. 0. 0. 0. 0. 0. 0. 0. 0. 0. 0. 0. 0. 0. 0. 0. 0. 0. 0.\n",
      " 0. 0. 0. 0. 0. 0. 0. 0. 0. 0. 0. 0. 0. 0. 0. 0. 0. 0. 0. 0. 0. 0. 0. 0.\n",
      " 0. 0. 0. 0. 0. 0. 0. 0. 0. 0. 0. 0. 0. 0. 0. 0. 0. 0. 0. 0. 0. 0. 0. 0.\n",
      " 0. 0. 0. 0. 0. 0. 0. 0. 0. 0. 0. 0.]\n",
      "hi\n",
      "[[0.]\n",
      " [0.]\n",
      " [0.]\n",
      " [0.]\n",
      " [0.]\n",
      " [0.]\n",
      " [0.]\n",
      " [0.]\n",
      " [0.]\n",
      " [0.]\n",
      " [0.]\n",
      " [0.]\n",
      " [0.]\n",
      " [0.]\n",
      " [0.]\n",
      " [0.]\n",
      " [0.]\n",
      " [0.]\n",
      " [0.]\n",
      " [0.]\n",
      " [0.]\n",
      " [0.]\n",
      " [0.]\n",
      " [0.]\n",
      " [0.]\n",
      " [0.]\n",
      " [0.]\n",
      " [0.]\n",
      " [0.]\n",
      " [0.]\n",
      " [0.]\n",
      " [0.]\n",
      " [0.]\n",
      " [0.]\n",
      " [0.]\n",
      " [0.]\n",
      " [0.]\n",
      " [0.]\n",
      " [0.]\n",
      " [0.]\n",
      " [0.]\n",
      " [0.]\n",
      " [0.]\n",
      " [0.]\n",
      " [0.]\n",
      " [0.]\n",
      " [0.]\n",
      " [0.]\n",
      " [0.]\n",
      " [0.]\n",
      " [0.]\n",
      " [0.]\n",
      " [0.]\n",
      " [0.]\n",
      " [0.]\n",
      " [0.]\n",
      " [0.]\n",
      " [0.]\n",
      " [0.]\n",
      " [0.]\n",
      " [0.]\n",
      " [0.]\n",
      " [0.]\n",
      " [0.]\n",
      " [0.]\n",
      " [0.]\n",
      " [0.]\n",
      " [0.]\n",
      " [0.]\n",
      " [0.]\n",
      " [0.]\n",
      " [0.]\n",
      " [0.]\n",
      " [0.]\n",
      " [0.]\n",
      " [0.]\n",
      " [0.]\n",
      " [0.]\n",
      " [0.]\n",
      " [0.]\n",
      " [0.]\n",
      " [0.]\n",
      " [0.]\n",
      " [0.]\n",
      " [0.]\n",
      " [0.]\n",
      " [0.]\n",
      " [0.]\n",
      " [0.]\n",
      " [0.]\n",
      " [0.]\n",
      " [0.]\n",
      " [0.]\n",
      " [0.]\n",
      " [0.]\n",
      " [0.]\n",
      " [0.]\n",
      " [0.]\n",
      " [0.]\n",
      " [0.]\n",
      " [0.]\n",
      " [0.]\n",
      " [0.]\n",
      " [0.]\n",
      " [0.]\n",
      " [0.]\n",
      " [0.]\n",
      " [0.]\n",
      " [0.]\n",
      " [0.]\n",
      " [0.]\n",
      " [0.]\n",
      " [0.]\n",
      " [0.]\n",
      " [0.]\n",
      " [0.]\n",
      " [0.]\n",
      " [0.]\n",
      " [0.]\n",
      " [0.]\n",
      " [0.]\n",
      " [0.]\n",
      " [0.]\n",
      " [0.]\n",
      " [0.]\n",
      " [0.]\n",
      " [0.]\n",
      " [0.]\n",
      " [0.]\n",
      " [0.]\n",
      " [0.]\n",
      " [0.]\n",
      " [0.]\n",
      " [0.]\n",
      " [0.]\n",
      " [0.]\n",
      " [0.]\n",
      " [0.]\n",
      " [0.]\n",
      " [0.]\n",
      " [0.]\n",
      " [0.]\n",
      " [0.]\n",
      " [0.]\n",
      " [0.]\n",
      " [0.]\n",
      " [0.]\n",
      " [0.]\n",
      " [0.]\n",
      " [0.]\n",
      " [0.]\n",
      " [0.]\n",
      " [0.]\n",
      " [0.]\n",
      " [0.]\n",
      " [0.]\n",
      " [0.]\n",
      " [0.]\n",
      " [0.]\n",
      " [0.]\n",
      " [0.]\n",
      " [0.]\n",
      " [0.]\n",
      " [0.]\n",
      " [0.]\n",
      " [0.]\n",
      " [0.]\n",
      " [0.]\n",
      " [0.]\n",
      " [0.]\n",
      " [0.]\n",
      " [0.]\n",
      " [0.]\n",
      " [0.]\n",
      " [0.]\n",
      " [0.]\n",
      " [0.]\n",
      " [0.]\n",
      " [0.]\n",
      " [0.]\n",
      " [0.]\n",
      " [0.]\n",
      " [0.]\n",
      " [0.]\n",
      " [0.]\n",
      " [0.]\n",
      " [0.]\n",
      " [0.]\n",
      " [0.]\n",
      " [0.]\n",
      " [0.]\n",
      " [0.]\n",
      " [0.]\n",
      " [0.]\n",
      " [0.]\n",
      " [0.]\n",
      " [0.]\n",
      " [0.]\n",
      " [0.]\n",
      " [0.]\n",
      " [0.]\n",
      " [0.]\n",
      " [0.]\n",
      " [0.]\n",
      " [0.]\n",
      " [0.]\n",
      " [0.]\n",
      " [0.]\n",
      " [0.]\n",
      " [0.]\n",
      " [0.]\n",
      " [0.]\n",
      " [0.]\n",
      " [0.]\n",
      " [0.]\n",
      " [0.]\n",
      " [0.]\n",
      " [0.]\n",
      " [0.]\n",
      " [0.]\n",
      " [0.]\n",
      " [0.]\n",
      " [0.]\n",
      " [0.]\n",
      " [0.]\n",
      " [0.]\n",
      " [0.]\n",
      " [0.]\n",
      " [0.]\n",
      " [0.]\n",
      " [0.]\n",
      " [0.]\n",
      " [0.]\n",
      " [0.]\n",
      " [0.]\n",
      " [0.]\n",
      " [0.]\n",
      " [0.]\n",
      " [0.]\n",
      " [0.]\n",
      " [0.]\n",
      " [0.]\n",
      " [0.]\n",
      " [0.]\n",
      " [0.]\n",
      " [0.]\n",
      " [0.]\n",
      " [0.]\n",
      " [0.]\n",
      " [0.]\n",
      " [0.]\n",
      " [0.]\n",
      " [0.]\n",
      " [0.]\n",
      " [0.]\n",
      " [0.]\n",
      " [0.]\n",
      " [0.]\n",
      " [0.]\n",
      " [0.]\n",
      " [0.]\n",
      " [0.]\n",
      " [0.]\n",
      " [0.]\n",
      " [0.]\n",
      " [0.]\n",
      " [0.]\n",
      " [0.]\n",
      " [0.]\n",
      " [0.]\n",
      " [0.]\n",
      " [0.]\n",
      " [0.]\n",
      " [0.]\n",
      " [0.]\n",
      " [0.]\n",
      " [0.]\n",
      " [0.]\n",
      " [0.]\n",
      " [0.]\n",
      " [0.]\n",
      " [0.]\n",
      " [0.]\n",
      " [0.]\n",
      " [0.]\n",
      " [0.]\n",
      " [0.]\n",
      " [0.]\n",
      " [0.]\n",
      " [0.]\n",
      " [0.]\n",
      " [0.]\n",
      " [0.]\n",
      " [0.]\n",
      " [0.]\n",
      " [0.]\n",
      " [0.]\n",
      " [0.]\n",
      " [0.]\n",
      " [0.]]\n",
      "[0.]\n"
     ]
    },
    {
     "data": {
      "text/plain": [
       "list"
      ]
     },
     "execution_count": 18,
     "metadata": {},
     "output_type": "execute_result"
    }
   ],
   "source": [
    "model = Sequential([\n",
    "    Linear(256, 300),\n",
    "    ReLU(),\n",
    "    Linear(300, 1),\n",
    "    Sigmoid()\n",
    "])\n",
    "for param in model.parameters:\n",
    "    print(param.data.shape)\n",
    "    print(param.grad)\n",
    "for layer in model.layers:\n",
    "    if hasattr(layer, 'weight'):\n",
    "        print(\"hi\")\n",
    "        print(layer.weight.grad)\n",
    "        print(layer.bias.grad)\n",
    "type(model.parameters)"
   ]
  },
  {
   "cell_type": "code",
   "execution_count": 19,
   "metadata": {},
   "outputs": [
    {
     "name": "stdout",
     "output_type": "stream",
     "text": [
      "Input data shape: (10, 256)\n",
      "Output data shape: (10, 1)\n"
     ]
    }
   ],
   "source": [
    "input_data = Tensor(np.random.randn(10, 256).astype(np.float32))\n",
    "\n",
    "output_data = Tensor(np.random.randint(0, 2, size=(10, 1)).astype(np.float32))\n",
    "\n",
    "print(\"Input data shape:\", input_data.shape)\n",
    "print(\"Output data shape:\", output_data.shape)"
   ]
  },
  {
   "cell_type": "code",
   "execution_count": 20,
   "metadata": {},
   "outputs": [],
   "source": [
    "loss_fn = MSELoss()\n",
    "optim = SGD(model.parameters, 1.0)"
   ]
  },
  {
   "cell_type": "code",
   "execution_count": 21,
   "metadata": {},
   "outputs": [
    {
     "name": "stdout",
     "output_type": "stream",
     "text": [
      "Tensor(data=0.22791561097955823)\n",
      "Tensor(data=0.22791561097955823)\n",
      "Tensor(data=0.22791561097955823)\n",
      "Tensor(data=0.22791561097955823)\n",
      "Tensor(data=0.22791561097955823)\n",
      "Tensor(data=0.22791561097955823)\n",
      "Tensor(data=0.22791561097955823)\n",
      "Tensor(data=0.22791561097955823)\n",
      "Tensor(data=0.22791561097955823)\n",
      "Tensor(data=0.22791561097955823)\n"
     ]
    },
    {
     "data": {
      "image/svg+xml": [
       "<?xml version=\"1.0\" encoding=\"UTF-8\" standalone=\"no\"?>\n",
       "<!DOCTYPE svg PUBLIC \"-//W3C//DTD SVG 1.1//EN\"\n",
       " \"http://www.w3.org/Graphics/SVG/1.1/DTD/svg11.dtd\">\n",
       "<!-- Generated by graphviz version 12.1.1 (0)\n",
       " -->\n",
       "<!-- Pages: 1 -->\n",
       "<svg width=\"2808pt\" height=\"184pt\"\n",
       " viewBox=\"0.00 0.00 2807.89 184.00\" xmlns=\"http://www.w3.org/2000/svg\" xmlns:xlink=\"http://www.w3.org/1999/xlink\">\n",
       "<g id=\"graph0\" class=\"graph\" transform=\"scale(1 1) rotate(0) translate(4 180)\">\n",
       "<polygon fill=\"white\" stroke=\"none\" points=\"-4,4 -4,-180 2803.89,-180 2803.89,4 -4,4\"/>\n",
       "<!-- 132826241091088 -->\n",
       "<g id=\"node1\" class=\"node\">\n",
       "<title>132826241091088</title>\n",
       "<polygon fill=\"none\" stroke=\"black\" points=\"351,-139.5 351,-175.5 576,-175.5 576,-139.5 351,-139.5\"/>\n",
       "<text text-anchor=\"middle\" x=\"361.25\" y=\"-153.2\" font-family=\"Times,serif\" font-size=\"14.00\"> </text>\n",
       "<polyline fill=\"none\" stroke=\"black\" points=\"371.5,-140.25 371.5,-175.5\"/>\n",
       "<text text-anchor=\"middle\" x=\"422.25\" y=\"-153.2\" font-family=\"Times,serif\" font-size=\"14.00\">data 0.0000</text>\n",
       "<polyline fill=\"none\" stroke=\"black\" points=\"473,-140.25 473,-175.5\"/>\n",
       "<text text-anchor=\"middle\" x=\"524.5\" y=\"-153.2\" font-family=\"Times,serif\" font-size=\"14.00\">grad 0.0000</text>\n",
       "</g>\n",
       "<!-- 132826239336512+ -->\n",
       "<g id=\"node3\" class=\"node\">\n",
       "<title>132826239336512+</title>\n",
       "<ellipse fill=\"none\" stroke=\"black\" cx=\"639\" cy=\"-129.5\" rx=\"27\" ry=\"18\"/>\n",
       "<text text-anchor=\"middle\" x=\"639\" y=\"-124.83\" font-family=\"Times,serif\" font-size=\"14.00\">+</text>\n",
       "</g>\n",
       "<!-- 132826241091088&#45;&gt;132826239336512+ -->\n",
       "<g id=\"edge13\" class=\"edge\">\n",
       "<title>132826241091088&#45;&gt;132826239336512+</title>\n",
       "<path fill=\"none\" stroke=\"black\" d=\"M576.34,-139.45C585.12,-138.03 593.52,-136.68 601.15,-135.45\"/>\n",
       "<polygon fill=\"black\" stroke=\"black\" points=\"601.62,-138.92 610.93,-133.87 600.5,-132.01 601.62,-138.92\"/>\n",
       "</g>\n",
       "<!-- 132826239336512 -->\n",
       "<g id=\"node2\" class=\"node\">\n",
       "<title>132826239336512</title>\n",
       "<polygon fill=\"none\" stroke=\"black\" points=\"702,-111.5 702,-147.5 927,-147.5 927,-111.5 702,-111.5\"/>\n",
       "<text text-anchor=\"middle\" x=\"712.25\" y=\"-125.2\" font-family=\"Times,serif\" font-size=\"14.00\"> </text>\n",
       "<polyline fill=\"none\" stroke=\"black\" points=\"722.5,-112.25 722.5,-147.5\"/>\n",
       "<text text-anchor=\"middle\" x=\"773.25\" y=\"-125.2\" font-family=\"Times,serif\" font-size=\"14.00\">data 0.0000</text>\n",
       "<polyline fill=\"none\" stroke=\"black\" points=\"824,-112.25 824,-147.5\"/>\n",
       "<text text-anchor=\"middle\" x=\"875.5\" y=\"-125.2\" font-family=\"Times,serif\" font-size=\"14.00\">grad 0.0000</text>\n",
       "</g>\n",
       "<!-- 132826239338384relu -->\n",
       "<g id=\"node19\" class=\"node\">\n",
       "<title>132826239338384relu</title>\n",
       "<ellipse fill=\"none\" stroke=\"black\" cx=\"994.22\" cy=\"-129.5\" rx=\"31.22\" ry=\"18\"/>\n",
       "<text text-anchor=\"middle\" x=\"994.22\" y=\"-124.83\" font-family=\"Times,serif\" font-size=\"14.00\">relu</text>\n",
       "</g>\n",
       "<!-- 132826239336512&#45;&gt;132826239338384relu -->\n",
       "<g id=\"edge16\" class=\"edge\">\n",
       "<title>132826239336512&#45;&gt;132826239338384relu</title>\n",
       "<path fill=\"none\" stroke=\"black\" d=\"M927.29,-129.5C935.78,-129.5 943.97,-129.5 951.51,-129.5\"/>\n",
       "<polygon fill=\"black\" stroke=\"black\" points=\"951.29,-133 961.29,-129.5 951.29,-126 951.29,-133\"/>\n",
       "</g>\n",
       "<!-- 132826239336512+&#45;&gt;132826239336512 -->\n",
       "<g id=\"edge1\" class=\"edge\">\n",
       "<title>132826239336512+&#45;&gt;132826239336512</title>\n",
       "<path fill=\"none\" stroke=\"black\" d=\"M666.35,-129.5C673.42,-129.5 681.54,-129.5 690.27,-129.5\"/>\n",
       "<polygon fill=\"black\" stroke=\"black\" points=\"690.1,-133 700.1,-129.5 690.1,-126 690.1,-133\"/>\n",
       "</g>\n",
       "<!-- 132826241091664 -->\n",
       "<g id=\"node4\" class=\"node\">\n",
       "<title>132826241091664</title>\n",
       "<polygon fill=\"none\" stroke=\"black\" points=\"0,-112.5 0,-148.5 225,-148.5 225,-112.5 0,-112.5\"/>\n",
       "<text text-anchor=\"middle\" x=\"10.25\" y=\"-126.2\" font-family=\"Times,serif\" font-size=\"14.00\"> </text>\n",
       "<polyline fill=\"none\" stroke=\"black\" points=\"20.5,-113.25 20.5,-148.5\"/>\n",
       "<text text-anchor=\"middle\" x=\"71.25\" y=\"-126.2\" font-family=\"Times,serif\" font-size=\"14.00\">data 0.0000</text>\n",
       "<polyline fill=\"none\" stroke=\"black\" points=\"122,-113.25 122,-148.5\"/>\n",
       "<text text-anchor=\"middle\" x=\"173.5\" y=\"-126.2\" font-family=\"Times,serif\" font-size=\"14.00\">grad 0.0000</text>\n",
       "</g>\n",
       "<!-- 132826239336656@ -->\n",
       "<g id=\"node11\" class=\"node\">\n",
       "<title>132826239336656@</title>\n",
       "<ellipse fill=\"none\" stroke=\"black\" cx=\"288\" cy=\"-102.5\" rx=\"27\" ry=\"18\"/>\n",
       "<text text-anchor=\"middle\" x=\"288\" y=\"-97.83\" font-family=\"Times,serif\" font-size=\"14.00\">@</text>\n",
       "</g>\n",
       "<!-- 132826241091664&#45;&gt;132826239336656@ -->\n",
       "<g id=\"edge18\" class=\"edge\">\n",
       "<title>132826241091664&#45;&gt;132826239336656@</title>\n",
       "<path fill=\"none\" stroke=\"black\" d=\"M225.34,-112.45C234.12,-111.03 242.52,-109.68 250.15,-108.45\"/>\n",
       "<polygon fill=\"black\" stroke=\"black\" points=\"250.62,-111.92 259.93,-106.87 249.5,-105.01 250.62,-111.92\"/>\n",
       "</g>\n",
       "<!-- 132826239338096 -->\n",
       "<g id=\"node5\" class=\"node\">\n",
       "<title>132826239338096</title>\n",
       "<polygon fill=\"none\" stroke=\"black\" points=\"2574.89,-27.5 2574.89,-63.5 2799.89,-63.5 2799.89,-27.5 2574.89,-27.5\"/>\n",
       "<text text-anchor=\"middle\" x=\"2585.14\" y=\"-41.2\" font-family=\"Times,serif\" font-size=\"14.00\"> </text>\n",
       "<polyline fill=\"none\" stroke=\"black\" points=\"2595.39,-28.25 2595.39,-63.5\"/>\n",
       "<text text-anchor=\"middle\" x=\"2646.14\" y=\"-41.2\" font-family=\"Times,serif\" font-size=\"14.00\">data 0.2279</text>\n",
       "<polyline fill=\"none\" stroke=\"black\" points=\"2696.89,-28.25 2696.89,-63.5\"/>\n",
       "<text text-anchor=\"middle\" x=\"2748.39\" y=\"-41.2\" font-family=\"Times,serif\" font-size=\"14.00\">grad 1.0000</text>\n",
       "</g>\n",
       "<!-- 132826239338096MSELoss -->\n",
       "<g id=\"node6\" class=\"node\">\n",
       "<title>132826239338096MSELoss</title>\n",
       "<ellipse fill=\"none\" stroke=\"black\" cx=\"2480.84\" cy=\"-45.5\" rx=\"58.05\" ry=\"18\"/>\n",
       "<text text-anchor=\"middle\" x=\"2480.84\" y=\"-40.83\" font-family=\"Times,serif\" font-size=\"14.00\">MSELoss</text>\n",
       "</g>\n",
       "<!-- 132826239338096MSELoss&#45;&gt;132826239338096 -->\n",
       "<g id=\"edge2\" class=\"edge\">\n",
       "<title>132826239338096MSELoss&#45;&gt;132826239338096</title>\n",
       "<path fill=\"none\" stroke=\"black\" d=\"M2539.37,-45.5C2547,-45.5 2555.05,-45.5 2563.29,-45.5\"/>\n",
       "<polygon fill=\"black\" stroke=\"black\" points=\"2563.11,-49 2573.11,-45.5 2563.11,-42 2563.11,-49\"/>\n",
       "</g>\n",
       "<!-- 132826239337136 -->\n",
       "<g id=\"node7\" class=\"node\">\n",
       "<title>132826239337136</title>\n",
       "<polygon fill=\"none\" stroke=\"black\" points=\"1412.43,-83.5 1412.43,-119.5 1637.43,-119.5 1637.43,-83.5 1412.43,-83.5\"/>\n",
       "<text text-anchor=\"middle\" x=\"1422.68\" y=\"-97.2\" font-family=\"Times,serif\" font-size=\"14.00\"> </text>\n",
       "<polyline fill=\"none\" stroke=\"black\" points=\"1432.93,-84.25 1432.93,-119.5\"/>\n",
       "<text text-anchor=\"middle\" x=\"1483.68\" y=\"-97.2\" font-family=\"Times,serif\" font-size=\"14.00\">data 0.0000</text>\n",
       "<polyline fill=\"none\" stroke=\"black\" points=\"1534.43,-84.25 1534.43,-119.5\"/>\n",
       "<text text-anchor=\"middle\" x=\"1585.93\" y=\"-97.2\" font-family=\"Times,serif\" font-size=\"14.00\">grad 0.0000</text>\n",
       "</g>\n",
       "<!-- 132826239338864+ -->\n",
       "<g id=\"node16\" class=\"node\">\n",
       "<title>132826239338864+</title>\n",
       "<ellipse fill=\"none\" stroke=\"black\" cx=\"1700.43\" cy=\"-73.5\" rx=\"27\" ry=\"18\"/>\n",
       "<text text-anchor=\"middle\" x=\"1700.43\" y=\"-68.83\" font-family=\"Times,serif\" font-size=\"14.00\">+</text>\n",
       "</g>\n",
       "<!-- 132826239337136&#45;&gt;132826239338864+ -->\n",
       "<g id=\"edge11\" class=\"edge\">\n",
       "<title>132826239337136&#45;&gt;132826239338864+</title>\n",
       "<path fill=\"none\" stroke=\"black\" d=\"M1637.77,-83.45C1646.55,-82.03 1654.95,-80.68 1662.58,-79.45\"/>\n",
       "<polygon fill=\"black\" stroke=\"black\" points=\"1663.05,-82.92 1672.37,-77.87 1661.94,-76.01 1663.05,-82.92\"/>\n",
       "</g>\n",
       "<!-- 132826239337136@ -->\n",
       "<g id=\"node8\" class=\"node\">\n",
       "<title>132826239337136@</title>\n",
       "<ellipse fill=\"none\" stroke=\"black\" cx=\"1349.43\" cy=\"-101.5\" rx=\"27\" ry=\"18\"/>\n",
       "<text text-anchor=\"middle\" x=\"1349.43\" y=\"-96.83\" font-family=\"Times,serif\" font-size=\"14.00\">@</text>\n",
       "</g>\n",
       "<!-- 132826239337136@&#45;&gt;132826239337136 -->\n",
       "<g id=\"edge3\" class=\"edge\">\n",
       "<title>132826239337136@&#45;&gt;132826239337136</title>\n",
       "<path fill=\"none\" stroke=\"black\" d=\"M1376.78,-101.5C1383.85,-101.5 1391.97,-101.5 1400.7,-101.5\"/>\n",
       "<polygon fill=\"black\" stroke=\"black\" points=\"1400.53,-105 1410.53,-101.5 1400.53,-98 1400.53,-105\"/>\n",
       "</g>\n",
       "<!-- 132826241096368 -->\n",
       "<g id=\"node9\" class=\"node\">\n",
       "<title>132826241096368</title>\n",
       "<polygon fill=\"none\" stroke=\"black\" points=\"1061.43,-56.5 1061.43,-92.5 1286.43,-92.5 1286.43,-56.5 1061.43,-56.5\"/>\n",
       "<text text-anchor=\"middle\" x=\"1071.68\" y=\"-70.2\" font-family=\"Times,serif\" font-size=\"14.00\"> </text>\n",
       "<polyline fill=\"none\" stroke=\"black\" points=\"1081.93,-57.25 1081.93,-92.5\"/>\n",
       "<text text-anchor=\"middle\" x=\"1132.68\" y=\"-70.2\" font-family=\"Times,serif\" font-size=\"14.00\">data 0.0000</text>\n",
       "<polyline fill=\"none\" stroke=\"black\" points=\"1183.43,-57.25 1183.43,-92.5\"/>\n",
       "<text text-anchor=\"middle\" x=\"1234.93\" y=\"-70.2\" font-family=\"Times,serif\" font-size=\"14.00\">grad 0.0000</text>\n",
       "</g>\n",
       "<!-- 132826241096368&#45;&gt;132826239337136@ -->\n",
       "<g id=\"edge9\" class=\"edge\">\n",
       "<title>132826241096368&#45;&gt;132826239337136@</title>\n",
       "<path fill=\"none\" stroke=\"black\" d=\"M1286.77,-91.9C1295.55,-93.27 1303.95,-94.58 1311.58,-95.76\"/>\n",
       "<polygon fill=\"black\" stroke=\"black\" points=\"1310.95,-99.21 1321.36,-97.29 1312.02,-92.29 1310.95,-99.21\"/>\n",
       "</g>\n",
       "<!-- 132826239336656 -->\n",
       "<g id=\"node10\" class=\"node\">\n",
       "<title>132826239336656</title>\n",
       "<polygon fill=\"none\" stroke=\"black\" points=\"351,-84.5 351,-120.5 576,-120.5 576,-84.5 351,-84.5\"/>\n",
       "<text text-anchor=\"middle\" x=\"361.25\" y=\"-98.2\" font-family=\"Times,serif\" font-size=\"14.00\"> </text>\n",
       "<polyline fill=\"none\" stroke=\"black\" points=\"371.5,-85.25 371.5,-120.5\"/>\n",
       "<text text-anchor=\"middle\" x=\"422.25\" y=\"-98.2\" font-family=\"Times,serif\" font-size=\"14.00\">data 0.0000</text>\n",
       "<polyline fill=\"none\" stroke=\"black\" points=\"473,-85.25 473,-120.5\"/>\n",
       "<text text-anchor=\"middle\" x=\"524.5\" y=\"-98.2\" font-family=\"Times,serif\" font-size=\"14.00\">grad 0.0000</text>\n",
       "</g>\n",
       "<!-- 132826239336656&#45;&gt;132826239336512+ -->\n",
       "<g id=\"edge10\" class=\"edge\">\n",
       "<title>132826239336656&#45;&gt;132826239336512+</title>\n",
       "<path fill=\"none\" stroke=\"black\" d=\"M576.34,-119.9C585.12,-121.27 593.52,-122.58 601.15,-123.76\"/>\n",
       "<polygon fill=\"black\" stroke=\"black\" points=\"600.51,-127.21 610.93,-125.29 601.59,-120.29 600.51,-127.21\"/>\n",
       "</g>\n",
       "<!-- 132826239336656@&#45;&gt;132826239336656 -->\n",
       "<g id=\"edge4\" class=\"edge\">\n",
       "<title>132826239336656@&#45;&gt;132826239336656</title>\n",
       "<path fill=\"none\" stroke=\"black\" d=\"M315.35,-102.5C322.42,-102.5 330.54,-102.5 339.27,-102.5\"/>\n",
       "<polygon fill=\"black\" stroke=\"black\" points=\"339.1,-106 349.1,-102.5 339.1,-99 339.1,-106\"/>\n",
       "</g>\n",
       "<!-- 132826791243984 -->\n",
       "<g id=\"node12\" class=\"node\">\n",
       "<title>132826791243984</title>\n",
       "<polygon fill=\"none\" stroke=\"black\" points=\"2161.8,-0.5 2161.8,-36.5 2386.8,-36.5 2386.8,-0.5 2161.8,-0.5\"/>\n",
       "<text text-anchor=\"middle\" x=\"2172.05\" y=\"-14.2\" font-family=\"Times,serif\" font-size=\"14.00\"> </text>\n",
       "<polyline fill=\"none\" stroke=\"black\" points=\"2182.3,-1.25 2182.3,-36.5\"/>\n",
       "<text text-anchor=\"middle\" x=\"2233.05\" y=\"-14.2\" font-family=\"Times,serif\" font-size=\"14.00\">data 0.0000</text>\n",
       "<polyline fill=\"none\" stroke=\"black\" points=\"2283.8,-1.25 2283.8,-36.5\"/>\n",
       "<text text-anchor=\"middle\" x=\"2335.3\" y=\"-14.2\" font-family=\"Times,serif\" font-size=\"14.00\">grad 0.0000</text>\n",
       "</g>\n",
       "<!-- 132826791243984&#45;&gt;132826239338096MSELoss -->\n",
       "<g id=\"edge14\" class=\"edge\">\n",
       "<title>132826791243984&#45;&gt;132826239338096MSELoss</title>\n",
       "<path fill=\"none\" stroke=\"black\" d=\"M2387.14,-33.26C2396.85,-34.55 2406.44,-35.81 2415.56,-37.01\"/>\n",
       "<polygon fill=\"black\" stroke=\"black\" points=\"2414.96,-40.47 2425.33,-38.3 2415.88,-33.53 2414.96,-40.47\"/>\n",
       "</g>\n",
       "<!-- 132826239338816 -->\n",
       "<g id=\"node13\" class=\"node\">\n",
       "<title>132826239338816</title>\n",
       "<polygon fill=\"none\" stroke=\"black\" points=\"2161.8,-55.5 2161.8,-91.5 2386.8,-91.5 2386.8,-55.5 2161.8,-55.5\"/>\n",
       "<text text-anchor=\"middle\" x=\"2172.05\" y=\"-69.2\" font-family=\"Times,serif\" font-size=\"14.00\"> </text>\n",
       "<polyline fill=\"none\" stroke=\"black\" points=\"2182.3,-56.25 2182.3,-91.5\"/>\n",
       "<text text-anchor=\"middle\" x=\"2233.05\" y=\"-69.2\" font-family=\"Times,serif\" font-size=\"14.00\">data 0.0000</text>\n",
       "<polyline fill=\"none\" stroke=\"black\" points=\"2283.8,-56.25 2283.8,-91.5\"/>\n",
       "<text text-anchor=\"middle\" x=\"2335.3\" y=\"-69.2\" font-family=\"Times,serif\" font-size=\"14.00\">grad 0.0000</text>\n",
       "</g>\n",
       "<!-- 132826239338816&#45;&gt;132826239338096MSELoss -->\n",
       "<g id=\"edge12\" class=\"edge\">\n",
       "<title>132826239338816&#45;&gt;132826239338096MSELoss</title>\n",
       "<path fill=\"none\" stroke=\"black\" d=\"M2387.14,-58.19C2396.98,-56.84 2406.7,-55.51 2415.93,-54.25\"/>\n",
       "<polygon fill=\"black\" stroke=\"black\" points=\"2416.4,-57.72 2425.83,-52.89 2415.45,-50.78 2416.4,-57.72\"/>\n",
       "</g>\n",
       "<!-- 132826239338816sigmoid -->\n",
       "<g id=\"node14\" class=\"node\">\n",
       "<title>132826239338816sigmoid</title>\n",
       "<ellipse fill=\"none\" stroke=\"black\" cx=\"2075.11\" cy=\"-73.5\" rx=\"50.68\" ry=\"18\"/>\n",
       "<text text-anchor=\"middle\" x=\"2075.11\" y=\"-68.83\" font-family=\"Times,serif\" font-size=\"14.00\">sigmoid</text>\n",
       "</g>\n",
       "<!-- 132826239338816sigmoid&#45;&gt;132826239338816 -->\n",
       "<g id=\"edge5\" class=\"edge\">\n",
       "<title>132826239338816sigmoid&#45;&gt;132826239338816</title>\n",
       "<path fill=\"none\" stroke=\"black\" d=\"M2126.13,-73.5C2133.66,-73.5 2141.69,-73.5 2149.97,-73.5\"/>\n",
       "<polygon fill=\"black\" stroke=\"black\" points=\"2149.89,-77 2159.89,-73.5 2149.89,-70 2149.89,-77\"/>\n",
       "</g>\n",
       "<!-- 132826239338864 -->\n",
       "<g id=\"node15\" class=\"node\">\n",
       "<title>132826239338864</title>\n",
       "<polygon fill=\"none\" stroke=\"black\" points=\"1763.43,-55.5 1763.43,-91.5 1988.43,-91.5 1988.43,-55.5 1763.43,-55.5\"/>\n",
       "<text text-anchor=\"middle\" x=\"1773.68\" y=\"-69.2\" font-family=\"Times,serif\" font-size=\"14.00\"> </text>\n",
       "<polyline fill=\"none\" stroke=\"black\" points=\"1783.93,-56.25 1783.93,-91.5\"/>\n",
       "<text text-anchor=\"middle\" x=\"1834.68\" y=\"-69.2\" font-family=\"Times,serif\" font-size=\"14.00\">data 0.0000</text>\n",
       "<polyline fill=\"none\" stroke=\"black\" points=\"1885.43,-56.25 1885.43,-91.5\"/>\n",
       "<text text-anchor=\"middle\" x=\"1936.93\" y=\"-69.2\" font-family=\"Times,serif\" font-size=\"14.00\">grad 0.0000</text>\n",
       "</g>\n",
       "<!-- 132826239338864&#45;&gt;132826239338816sigmoid -->\n",
       "<g id=\"edge8\" class=\"edge\">\n",
       "<title>132826239338864&#45;&gt;132826239338816sigmoid</title>\n",
       "<path fill=\"none\" stroke=\"black\" d=\"M1988.77,-73.5C1996.97,-73.5 2005.04,-73.5 2012.76,-73.5\"/>\n",
       "<polygon fill=\"black\" stroke=\"black\" points=\"2012.65,-77 2022.65,-73.5 2012.65,-70 2012.65,-77\"/>\n",
       "</g>\n",
       "<!-- 132826239338864+&#45;&gt;132826239338864 -->\n",
       "<g id=\"edge6\" class=\"edge\">\n",
       "<title>132826239338864+&#45;&gt;132826239338864</title>\n",
       "<path fill=\"none\" stroke=\"black\" d=\"M1727.78,-73.5C1734.85,-73.5 1742.97,-73.5 1751.7,-73.5\"/>\n",
       "<polygon fill=\"black\" stroke=\"black\" points=\"1751.53,-77 1761.53,-73.5 1751.53,-70 1751.53,-77\"/>\n",
       "</g>\n",
       "<!-- 132826241095552 -->\n",
       "<g id=\"node17\" class=\"node\">\n",
       "<title>132826241095552</title>\n",
       "<polygon fill=\"none\" stroke=\"black\" points=\"1412.43,-28.5 1412.43,-64.5 1637.43,-64.5 1637.43,-28.5 1412.43,-28.5\"/>\n",
       "<text text-anchor=\"middle\" x=\"1422.68\" y=\"-42.2\" font-family=\"Times,serif\" font-size=\"14.00\"> </text>\n",
       "<polyline fill=\"none\" stroke=\"black\" points=\"1432.93,-29.25 1432.93,-64.5\"/>\n",
       "<text text-anchor=\"middle\" x=\"1483.68\" y=\"-42.2\" font-family=\"Times,serif\" font-size=\"14.00\">data 0.0000</text>\n",
       "<polyline fill=\"none\" stroke=\"black\" points=\"1534.43,-29.25 1534.43,-64.5\"/>\n",
       "<text text-anchor=\"middle\" x=\"1585.93\" y=\"-42.2\" font-family=\"Times,serif\" font-size=\"14.00\">grad 0.0000</text>\n",
       "</g>\n",
       "<!-- 132826241095552&#45;&gt;132826239338864+ -->\n",
       "<g id=\"edge15\" class=\"edge\">\n",
       "<title>132826241095552&#45;&gt;132826239338864+</title>\n",
       "<path fill=\"none\" stroke=\"black\" d=\"M1637.77,-63.9C1646.55,-65.27 1654.95,-66.58 1662.58,-67.76\"/>\n",
       "<polygon fill=\"black\" stroke=\"black\" points=\"1661.95,-71.21 1672.36,-69.29 1663.02,-64.29 1661.95,-71.21\"/>\n",
       "</g>\n",
       "<!-- 132826239338384 -->\n",
       "<g id=\"node18\" class=\"node\">\n",
       "<title>132826239338384</title>\n",
       "<polygon fill=\"none\" stroke=\"black\" points=\"1061.43,-111.5 1061.43,-147.5 1286.43,-147.5 1286.43,-111.5 1061.43,-111.5\"/>\n",
       "<text text-anchor=\"middle\" x=\"1071.68\" y=\"-125.2\" font-family=\"Times,serif\" font-size=\"14.00\"> </text>\n",
       "<polyline fill=\"none\" stroke=\"black\" points=\"1081.93,-112.25 1081.93,-147.5\"/>\n",
       "<text text-anchor=\"middle\" x=\"1132.68\" y=\"-125.2\" font-family=\"Times,serif\" font-size=\"14.00\">data 0.0000</text>\n",
       "<polyline fill=\"none\" stroke=\"black\" points=\"1183.43,-112.25 1183.43,-147.5\"/>\n",
       "<text text-anchor=\"middle\" x=\"1234.93\" y=\"-125.2\" font-family=\"Times,serif\" font-size=\"14.00\">grad 0.0000</text>\n",
       "</g>\n",
       "<!-- 132826239338384&#45;&gt;132826239337136@ -->\n",
       "<g id=\"edge19\" class=\"edge\">\n",
       "<title>132826239338384&#45;&gt;132826239337136@</title>\n",
       "<path fill=\"none\" stroke=\"black\" d=\"M1286.77,-111.45C1295.55,-110.03 1303.95,-108.68 1311.58,-107.45\"/>\n",
       "<polygon fill=\"black\" stroke=\"black\" points=\"1312.05,-110.92 1321.37,-105.87 1310.94,-104.01 1312.05,-110.92\"/>\n",
       "</g>\n",
       "<!-- 132826239338384relu&#45;&gt;132826239338384 -->\n",
       "<g id=\"edge7\" class=\"edge\">\n",
       "<title>132826239338384relu&#45;&gt;132826239338384</title>\n",
       "<path fill=\"none\" stroke=\"black\" d=\"M1025.77,-129.5C1033.02,-129.5 1041.21,-129.5 1049.91,-129.5\"/>\n",
       "<polygon fill=\"black\" stroke=\"black\" points=\"1049.66,-133 1059.66,-129.5 1049.66,-126 1049.66,-133\"/>\n",
       "</g>\n",
       "<!-- 132826241092000 -->\n",
       "<g id=\"node20\" class=\"node\">\n",
       "<title>132826241092000</title>\n",
       "<polygon fill=\"none\" stroke=\"black\" points=\"0,-57.5 0,-93.5 225,-93.5 225,-57.5 0,-57.5\"/>\n",
       "<text text-anchor=\"middle\" x=\"10.25\" y=\"-71.2\" font-family=\"Times,serif\" font-size=\"14.00\"> </text>\n",
       "<polyline fill=\"none\" stroke=\"black\" points=\"20.5,-58.25 20.5,-93.5\"/>\n",
       "<text text-anchor=\"middle\" x=\"71.25\" y=\"-71.2\" font-family=\"Times,serif\" font-size=\"14.00\">data 0.0000</text>\n",
       "<polyline fill=\"none\" stroke=\"black\" points=\"122,-58.25 122,-93.5\"/>\n",
       "<text text-anchor=\"middle\" x=\"173.5\" y=\"-71.2\" font-family=\"Times,serif\" font-size=\"14.00\">grad 0.0000</text>\n",
       "</g>\n",
       "<!-- 132826241092000&#45;&gt;132826239336656@ -->\n",
       "<g id=\"edge17\" class=\"edge\">\n",
       "<title>132826241092000&#45;&gt;132826239336656@</title>\n",
       "<path fill=\"none\" stroke=\"black\" d=\"M225.34,-92.9C234.12,-94.27 242.52,-95.58 250.15,-96.76\"/>\n",
       "<polygon fill=\"black\" stroke=\"black\" points=\"249.51,-100.21 259.93,-98.29 250.59,-93.29 249.51,-100.21\"/>\n",
       "</g>\n",
       "</g>\n",
       "</svg>\n"
      ],
      "text/plain": [
       "<graphviz.graphs.Digraph at 0x78ce25b56080>"
      ]
     },
     "execution_count": 21,
     "metadata": {},
     "output_type": "execute_result"
    }
   ],
   "source": [
    "for _ in range(10):\n",
    "    logits = model(input_data)\n",
    "    loss = loss_fn(logits, output_data)\n",
    "    optim.zero_grad()\n",
    "    loss.backward()\n",
    "    optim.step()\n",
    "    print(loss)\n",
    "draw_dot(loss)"
   ]
  },
  {
   "cell_type": "code",
   "execution_count": 22,
   "metadata": {},
   "outputs": [
    {
     "name": "stdout",
     "output_type": "stream",
     "text": [
      "1 [[0]\n",
      " [1]\n",
      " [2]\n",
      " [3]\n",
      " [4]\n",
      " [5]\n",
      " [6]\n",
      " [7]\n",
      " [8]\n",
      " [9]]\n"
     ]
    },
    {
     "data": {
      "text/plain": [
       "array([[ 1],\n",
       "       [ 2],\n",
       "       [ 3],\n",
       "       [ 4],\n",
       "       [ 5],\n",
       "       [ 6],\n",
       "       [ 7],\n",
       "       [ 8],\n",
       "       [ 9],\n",
       "       [10]])"
      ]
     },
     "execution_count": 22,
     "metadata": {},
     "output_type": "execute_result"
    }
   ],
   "source": [
    "a = np.array(1)\n",
    "b = np.array(np.arange(10)).reshape(10,1)\n",
    "print(a,b)\n",
    "a + b"
   ]
  },
  {
   "cell_type": "code",
   "execution_count": null,
   "metadata": {},
   "outputs": [],
   "source": []
  },
  {
   "cell_type": "code",
   "execution_count": null,
   "metadata": {},
   "outputs": [],
   "source": []
  },
  {
   "cell_type": "code",
   "execution_count": null,
   "metadata": {},
   "outputs": [],
   "source": []
  },
  {
   "cell_type": "code",
   "execution_count": null,
   "metadata": {},
   "outputs": [],
   "source": []
  },
  {
   "cell_type": "code",
   "execution_count": 23,
   "metadata": {},
   "outputs": [
    {
     "data": {
      "text/plain": [
       "<bound method Module.parameters of Sequential(\n",
       "  (0): Linear(in_features=256, out_features=300, bias=True)\n",
       "  (1): ReLU()\n",
       "  (2): Linear(in_features=300, out_features=300, bias=True)\n",
       "  (3): ReLU()\n",
       "  (4): Linear(in_features=300, out_features=1, bias=True)\n",
       "  (5): Sigmoid()\n",
       ")>"
      ]
     },
     "execution_count": 23,
     "metadata": {},
     "output_type": "execute_result"
    }
   ],
   "source": [
    "model_torch = torch.nn.Sequential(\n",
    "    torch.nn.Linear(256, 300),\n",
    "    torch.nn.ReLU(),\n",
    "    torch.nn.Linear(300, 300),\n",
    "    torch.nn.ReLU(),\n",
    "    torch.nn.Linear(300, 1),\n",
    "    torch.nn.Sigmoid()\n",
    ")\n",
    "model_torch.parameters"
   ]
  },
  {
   "cell_type": "code",
   "execution_count": 24,
   "metadata": {},
   "outputs": [
    {
     "name": "stdout",
     "output_type": "stream",
     "text": [
      "tensor(0.6688, grad_fn=<BinaryCrossEntropyBackward0>)\n",
      "tensor(0.6268, grad_fn=<BinaryCrossEntropyBackward0>)\n",
      "tensor(0.5877, grad_fn=<BinaryCrossEntropyBackward0>)\n",
      "tensor(0.5485, grad_fn=<BinaryCrossEntropyBackward0>)\n",
      "tensor(0.5084, grad_fn=<BinaryCrossEntropyBackward0>)\n",
      "tensor(0.4663, grad_fn=<BinaryCrossEntropyBackward0>)\n",
      "tensor(0.4224, grad_fn=<BinaryCrossEntropyBackward0>)\n",
      "tensor(0.3774, grad_fn=<BinaryCrossEntropyBackward0>)\n",
      "tensor(0.3326, grad_fn=<BinaryCrossEntropyBackward0>)\n",
      "tensor(0.2896, grad_fn=<BinaryCrossEntropyBackward0>)\n"
     ]
    }
   ],
   "source": [
    "input_data = torch.Tensor(np.random.randn(10, 256).astype(np.float32))\n",
    "output_data = torch.Tensor(np.random.randint(0, 2, size=(10, 1)).astype(np.float32))\n",
    "\n",
    "loss_fn = torch.nn.BCELoss()\n",
    "optim = torch.optim.SGD(model_torch.parameters(), 0.1, momentum=0.0)\n",
    "\n",
    "for _ in range(10):\n",
    "    logits = model_torch(input_data)\n",
    "    loss = loss_fn(logits, output_data)\n",
    "    loss.backward()\n",
    "    optim.step()\n",
    "    optim.zero_grad()\n",
    "    print(loss)"
   ]
  },
  {
   "cell_type": "code",
   "execution_count": 25,
   "metadata": {},
   "outputs": [
    {
     "data": {
      "text/plain": [
       "77401"
      ]
     },
     "execution_count": 25,
     "metadata": {},
     "output_type": "execute_result"
    }
   ],
   "source": [
    "model.total_params()"
   ]
  },
  {
   "cell_type": "code",
   "execution_count": 26,
   "metadata": {},
   "outputs": [
    {
     "data": {
      "text/plain": [
       "array([[0, 0, 0, 0, 1, 1, 1, 1, 0, 0],\n",
       "       [1, 0, 1, 0, 1, 1, 0, 0, 0, 1],\n",
       "       [0, 1, 0, 0, 0, 1, 1, 0, 1, 0],\n",
       "       [1, 0, 0, 0, 1, 0, 1, 1, 0, 0],\n",
       "       [1, 0, 0, 1, 0, 1, 1, 1, 1, 1]])"
      ]
     },
     "execution_count": 26,
     "metadata": {},
     "output_type": "execute_result"
    }
   ],
   "source": [
    "X = np.random.uniform(-1, 1, size=(100, 256))\n",
    "y = np.random.choice([0, 1], size=(100, 10), p=[0.5, 0.5])\n",
    "X.shape\n",
    "X = Tensor(X)\n",
    "y = Tensor(y) \n",
    "y.data[:5]"
   ]
  },
  {
   "cell_type": "code",
   "execution_count": 27,
   "metadata": {},
   "outputs": [
    {
     "ename": "ValueError",
     "evalue": "operands could not be broadcast together with shapes (100,300) (10,300) ",
     "output_type": "error",
     "traceback": [
      "\u001b[0;31m---------------------------------------------------------------------------\u001b[0m",
      "\u001b[0;31mValueError\u001b[0m                                Traceback (most recent call last)",
      "Cell \u001b[0;32mIn[27], line 1\u001b[0m\n\u001b[0;32m----> 1\u001b[0m out \u001b[38;5;241m=\u001b[39m \u001b[43mmodel\u001b[49m\u001b[43m(\u001b[49m\u001b[43mX\u001b[49m\u001b[43m)\u001b[49m\n\u001b[1;32m      2\u001b[0m out\u001b[38;5;241m.\u001b[39mdata\u001b[38;5;241m.\u001b[39mshape, y\u001b[38;5;241m.\u001b[39mdata\u001b[38;5;241m.\u001b[39mshape\n",
      "File \u001b[0;32m/run/media/nuclea/Code/vibegrad/vibegrad/nn/sequential.py:12\u001b[0m, in \u001b[0;36mSequential.__call__\u001b[0;34m(self, X)\u001b[0m\n\u001b[1;32m     10\u001b[0m \u001b[38;5;28;01mdef\u001b[39;00m \u001b[38;5;21m__call__\u001b[39m(\u001b[38;5;28mself\u001b[39m, X):\n\u001b[1;32m     11\u001b[0m     \u001b[38;5;28;01mfor\u001b[39;00m layer \u001b[38;5;129;01min\u001b[39;00m \u001b[38;5;28mself\u001b[39m\u001b[38;5;241m.\u001b[39mlayers:\n\u001b[0;32m---> 12\u001b[0m         X \u001b[38;5;241m=\u001b[39m \u001b[43mlayer\u001b[49m\u001b[43m(\u001b[49m\u001b[43mX\u001b[49m\u001b[43m)\u001b[49m\n\u001b[1;32m     13\u001b[0m     \u001b[38;5;28mself\u001b[39m\u001b[38;5;241m.\u001b[39mout \u001b[38;5;241m=\u001b[39m X\n\u001b[1;32m     14\u001b[0m     \u001b[38;5;28;01mreturn\u001b[39;00m \u001b[38;5;28mself\u001b[39m\u001b[38;5;241m.\u001b[39mout\n",
      "File \u001b[0;32m/run/media/nuclea/Code/vibegrad/vibegrad/nn/linear.py:23\u001b[0m, in \u001b[0;36mLinear.__call__\u001b[0;34m(self, x)\u001b[0m\n\u001b[1;32m     21\u001b[0m out \u001b[38;5;241m=\u001b[39m x \u001b[38;5;241m@\u001b[39m \u001b[38;5;28mself\u001b[39m\u001b[38;5;241m.\u001b[39mweight\n\u001b[1;32m     22\u001b[0m \u001b[38;5;28;01mif\u001b[39;00m \u001b[38;5;28mself\u001b[39m\u001b[38;5;241m.\u001b[39mbias \u001b[38;5;129;01mis\u001b[39;00m \u001b[38;5;129;01mnot\u001b[39;00m \u001b[38;5;28;01mNone\u001b[39;00m:\n\u001b[0;32m---> 23\u001b[0m         out \u001b[38;5;241m+\u001b[39m\u001b[38;5;241m=\u001b[39m \u001b[38;5;28mself\u001b[39m\u001b[38;5;241m.\u001b[39mbias\n\u001b[1;32m     24\u001b[0m \u001b[38;5;28;01mreturn\u001b[39;00m out\n",
      "File \u001b[0;32m/run/media/nuclea/Code/vibegrad/vibegrad/core/engine.py:18\u001b[0m, in \u001b[0;36mTensor.__add__\u001b[0;34m(self, other)\u001b[0m\n\u001b[1;32m     16\u001b[0m \u001b[38;5;28;01mdef\u001b[39;00m \u001b[38;5;21m__add__\u001b[39m(\u001b[38;5;28mself\u001b[39m, other):\n\u001b[1;32m     17\u001b[0m     other \u001b[38;5;241m=\u001b[39m other \u001b[38;5;28;01mif\u001b[39;00m \u001b[38;5;28misinstance\u001b[39m(other, Tensor) \u001b[38;5;28;01melse\u001b[39;00m Tensor(other)\n\u001b[0;32m---> 18\u001b[0m     out \u001b[38;5;241m=\u001b[39m Tensor(\u001b[38;5;28;43mself\u001b[39;49m\u001b[38;5;241;43m.\u001b[39;49m\u001b[43mdata\u001b[49m\u001b[38;5;241;43m+\u001b[39;49m\u001b[43mother\u001b[49m\u001b[38;5;241;43m.\u001b[39;49m\u001b[43mdata\u001b[49m, (\u001b[38;5;28mself\u001b[39m, other), \u001b[38;5;124m'\u001b[39m\u001b[38;5;124m+\u001b[39m\u001b[38;5;124m'\u001b[39m)\n\u001b[1;32m     20\u001b[0m     \u001b[38;5;28;01mdef\u001b[39;00m \u001b[38;5;21m_backward\u001b[39m():\n\u001b[1;32m     21\u001b[0m         \u001b[38;5;28;01mif\u001b[39;00m \u001b[38;5;28mself\u001b[39m\u001b[38;5;241m.\u001b[39mshape \u001b[38;5;241m!=\u001b[39m other\u001b[38;5;241m.\u001b[39mshape:\n",
      "\u001b[0;31mValueError\u001b[0m: operands could not be broadcast together with shapes (100,300) (10,300) "
     ]
    }
   ],
   "source": [
    "out = model(X)\n",
    "out.data.shape, y.data.shape"
   ]
  },
  {
   "cell_type": "code",
   "execution_count": 26,
   "metadata": {},
   "outputs": [
    {
     "name": "stdout",
     "output_type": "stream",
     "text": [
      "Tensor(data=1.1960046346767592)\n"
     ]
    },
    {
     "data": {
      "text/plain": [
       "array([-1.11111111,  1.66666667, -1.42857143,  1.25      ])"
      ]
     },
     "execution_count": 26,
     "metadata": {},
     "output_type": "execute_result"
    }
   ],
   "source": [
    "prediction = Tensor(np.array([0.9, 0.4, 0.7, 0.2]))\n",
    "target = Tensor(np.array([1, 0, 1, 0]))\n",
    "\n",
    "loss_fn = BCELoss(reduction=\"sum\")\n",
    "loss = loss_fn(prediction, target)\n",
    "print(loss)\n",
    "loss.backward()\n",
    "prediction.grad"
   ]
  },
  {
   "cell_type": "code",
   "execution_count": 27,
   "metadata": {},
   "outputs": [
    {
     "name": "stdout",
     "output_type": "stream",
     "text": [
      "tensor(1.1960, dtype=torch.float64, grad_fn=<BinaryCrossEntropyBackward0>)\n"
     ]
    },
    {
     "data": {
      "text/plain": [
       "tensor([-1.1111,  1.6667, -1.4286,  1.2500], dtype=torch.float64)"
      ]
     },
     "execution_count": 27,
     "metadata": {},
     "output_type": "execute_result"
    }
   ],
   "source": [
    "prediction = torch.tensor(np.array([0.9, 0.4, 0.7, 0.2]), requires_grad=True)\n",
    "target = torch.tensor(np.array([1,0,1,0]), dtype=torch.double, requires_grad=True)\n",
    "loss_fn_torch = torch.nn.BCELoss(reduction=\"sum\")\n",
    "loss_torch = loss_fn_torch(prediction, target)\n",
    "print(loss_torch)\n",
    "loss_torch.backward()\n",
    "prediction.grad"
   ]
  },
  {
   "cell_type": "code",
   "execution_count": null,
   "metadata": {},
   "outputs": [],
   "source": []
  },
  {
   "cell_type": "code",
   "execution_count": 28,
   "metadata": {},
   "outputs": [
    {
     "data": {
      "text/plain": [
       "Sequential(\n",
       "  (0): Linear(in_features=256, out_features=300, bias=True)\n",
       "  (1): Linear(in_features=300, out_features=300, bias=True)\n",
       "  (2): Linear(in_features=300, out_features=10, bias=True)\n",
       ")"
      ]
     },
     "execution_count": 28,
     "metadata": {},
     "output_type": "execute_result"
    }
   ],
   "source": [
    "model = torch.nn.Sequential()\n",
    "model.append(torch.nn.Linear(256, 300))\n",
    "model.append(torch.nn.Linear(300,300))\n",
    "model.append(torch.nn.Linear(300,10))"
   ]
  },
  {
   "cell_type": "code",
   "execution_count": 29,
   "metadata": {},
   "outputs": [
    {
     "name": "stdout",
     "output_type": "stream",
     "text": [
      "Total number of parameters: 170410\n"
     ]
    }
   ],
   "source": [
    "total_params = sum(p.numel() for p in model.parameters() if p.requires_grad)\n",
    "print(f\"Total number of parameters: {total_params}\")"
   ]
  },
  {
   "cell_type": "code",
   "execution_count": 30,
   "metadata": {},
   "outputs": [
    {
     "data": {
      "text/plain": [
       "<bound method Module.parameters of Sequential(\n",
       "  (0): Linear(in_features=256, out_features=300, bias=True)\n",
       "  (1): Linear(in_features=300, out_features=300, bias=True)\n",
       "  (2): Linear(in_features=300, out_features=10, bias=True)\n",
       ")>"
      ]
     },
     "execution_count": 30,
     "metadata": {},
     "output_type": "execute_result"
    }
   ],
   "source": [
    "model.parameters"
   ]
  },
  {
   "cell_type": "code",
   "execution_count": 31,
   "metadata": {},
   "outputs": [],
   "source": [
    "import vibegrad.nn as nn"
   ]
  },
  {
   "cell_type": "code",
   "execution_count": 32,
   "metadata": {},
   "outputs": [
    {
     "data": {
      "text/plain": [
       "Tensor(data=2.0)"
      ]
     },
     "execution_count": 32,
     "metadata": {},
     "output_type": "execute_result"
    }
   ],
   "source": [
    "nn.relu(Tensor(2.0))"
   ]
  },
  {
   "cell_type": "code",
   "execution_count": 32,
   "metadata": {},
   "outputs": [
    {
     "ename": "ValueError",
     "evalue": "non-broadcastable output operand with shape (1,) doesn't match the broadcast shape (10,1)",
     "output_type": "error",
     "traceback": [
      "\u001b[0;31m---------------------------------------------------------------------------\u001b[0m",
      "\u001b[0;31mValueError\u001b[0m                                Traceback (most recent call last)",
      "Cell \u001b[0;32mIn[32], line 10\u001b[0m\n\u001b[1;32m      7\u001b[0m arr2 \u001b[38;5;241m=\u001b[39m np\u001b[38;5;241m.\u001b[39mrandom\u001b[38;5;241m.\u001b[39mrandn(\u001b[38;5;241m10\u001b[39m,\u001b[38;5;241m1\u001b[39m)\n\u001b[1;32m      9\u001b[0m \u001b[38;5;66;03m# np.broadcast_shapes(shape1, shape2), np.broadcast_shapes(shape2, shape1)\u001b[39;00m\n\u001b[0;32m---> 10\u001b[0m arr1 \u001b[38;5;241m+\u001b[39m\u001b[38;5;241m=\u001b[39m arr2\n",
      "\u001b[0;31mValueError\u001b[0m: non-broadcastable output operand with shape (1,) doesn't match the broadcast shape (10,1)"
     ]
    }
   ],
   "source": [
    "import numpy as np\n",
    "\n",
    "# Example: Broadcasting shapes\n",
    "shape1 = (1,)\n",
    "shape2 = (10, 1)\n",
    "arr1 = np.random.randn(1)\n",
    "arr2 = np.random.randn(10,1)\n",
    "\n",
    "# np.broadcast_shapes(shape1, shape2), np.broadcast_shapes(shape2, shape1)\n",
    "arr1 += arr2"
   ]
  },
  {
   "cell_type": "code",
   "execution_count": 34,
   "metadata": {},
   "outputs": [],
   "source": [
    "arr3 = np.broadcast_to(arr1, arr2.shape)"
   ]
  },
  {
   "cell_type": "code",
   "execution_count": 36,
   "metadata": {},
   "outputs": [],
   "source": [
    "arr2 += arr3"
   ]
  },
  {
   "cell_type": "code",
   "execution_count": null,
   "metadata": {},
   "outputs": [],
   "source": []
  }
 ],
 "metadata": {
  "kernelspec": {
   "display_name": "common",
   "language": "python",
   "name": "python3"
  },
  "language_info": {
   "codemirror_mode": {
    "name": "ipython",
    "version": 3
   },
   "file_extension": ".py",
   "mimetype": "text/x-python",
   "name": "python",
   "nbconvert_exporter": "python",
   "pygments_lexer": "ipython3",
   "version": "3.10.14"
  }
 },
 "nbformat": 4,
 "nbformat_minor": 4
}
